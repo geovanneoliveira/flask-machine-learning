{
  "nbformat": 4,
  "nbformat_minor": 0,
  "metadata": {
    "colab": {
      "provenance": []
    },
    "kernelspec": {
      "name": "python3",
      "display_name": "Python 3"
    },
    "language_info": {
      "name": "python"
    }
  },
  "cells": [
    {
      "cell_type": "code",
      "source": [
        "import pandas as pd\n",
        "from sklearn.ensemble import IsolationForest\n",
        "import joblib\n",
        "import numpy as np"
      ],
      "metadata": {
        "id": "k7p1QT9ncI28"
      },
      "execution_count": 14,
      "outputs": []
    },
    {
      "cell_type": "code",
      "execution_count": 26,
      "metadata": {
        "colab": {
          "base_uri": "https://localhost:8080/",
          "height": 487
        },
        "id": "MJR7I4zFcDuc",
        "outputId": "fc8a94cc-28ec-4ece-a0dc-b170d388d02e"
      },
      "outputs": [
        {
          "output_type": "stream",
          "name": "stdout",
          "text": [
            "Generated Temperature Data:\n",
            "[[<Axes: title={'center': 'temperature'}>]]\n"
          ]
        },
        {
          "output_type": "display_data",
          "data": {
            "text/plain": [
              "<Figure size 640x480 with 1 Axes>"
            ],
            "image/png": "[encoded data removed]"
          },
          "metadata": {}
        }
      ],
      "source": [
        "#@title Generate Database\n",
        "\n",
        "# Generate synthetic temperature data\n",
        "np.random.seed(0)  # For reproducibility\n",
        "\n",
        "# Define parameters\n",
        "num_samples = 1000\n",
        "mean_temperature = 25  # Mean temperature\n",
        "std_dev_temperature = 5  # Standard deviation of temperature\n",
        "\n",
        "# Generate random temperatures around the mean\n",
        "temperatures = np.random.normal(loc=mean_temperature, scale=std_dev_temperature, size=num_samples)\n",
        "\n",
        "# Create a DataFrame to store the temperature data\n",
        "temperature_data = pd.DataFrame({'temperature': temperatures})\n",
        "\n",
        "\n",
        "# Display the first few rows of the generated data\n",
        "print(\"Generated Temperature Data:\")\n",
        "print(temperature_data.hist())\n"
      ]
    },
    {
      "cell_type": "code",
      "source": [
        "#@title Generate Model\n",
        "\n",
        "# Assuming the temperature data is in a column named 'temperature'\n",
        "X = temperature_data[['temperature']]\n",
        "\n",
        "# Train Isolation Forest model\n",
        "model = IsolationForest(contamination=5/100)\n",
        "model.fit(X)\n",
        "\n",
        "# Save the trained model as a .pkl file\n",
        "joblib.dump(model, 'anomaly.pkl')"
      ],
      "metadata": {
        "colab": {
          "base_uri": "https://localhost:8080/"
        },
        "id": "-uZK4HV0cz6N",
        "outputId": "6af84cf3-1371-4587-90c0-677d16d83aea"
      },
      "execution_count": 27,
      "outputs": [
        {
          "output_type": "stream",
          "name": "stderr",
          "text": [
            "/usr/local/lib/python3.10/dist-packages/sklearn/base.py:439: UserWarning: X does not have valid feature names, but IsolationForest was fitted with feature names\n",
            "  warnings.warn(\n"
          ]
        },
        {
          "output_type": "execute_result",
          "data": {
            "text/plain": [
              "['anomaly.pkl']"
            ]
          },
          "metadata": {},
          "execution_count": 27
        }
      ]
    },
    {
      "cell_type": "code",
      "source": [
        "# Predict anomalies (1 for normal, -1 for anomalies)\n",
        "anomaly_labels = model.predict(X)\n",
        "temperature_data['anomaly_label'] = anomaly_labels\n",
        "print(temperature_data)"
      ],
      "metadata": {
        "colab": {
          "base_uri": "https://localhost:8080/"
        },
        "id": "efyoyToLfIU3",
        "outputId": "f943f791-d5a0-4bce-b5f4-35424b67010f"
      },
      "execution_count": 33,
      "outputs": [
        {
          "output_type": "stream",
          "name": "stdout",
          "text": [
            "     temperature  anomaly_label\n",
            "0      33.820262              1\n",
            "1      27.000786              1\n",
            "2      29.893690              1\n",
            "3      36.204466             -1\n",
            "4      34.337790              1\n",
            "..           ...            ...\n",
            "995    27.064354              1\n",
            "996    24.008006              1\n",
            "997    25.470962              1\n",
            "998    19.261945              1\n",
            "999    23.209430              1\n",
            "\n",
            "[1000 rows x 2 columns]\n"
          ]
        }
      ]
    }
  ]
}